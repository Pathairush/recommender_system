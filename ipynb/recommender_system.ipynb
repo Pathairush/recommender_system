{
 "cells": [
  {
   "cell_type": "code",
   "execution_count": 1,
   "id": "7f0afde1",
   "metadata": {
    "execution": {
     "iopub.execute_input": "2021-08-22T09:17:04.806099Z",
     "iopub.status.busy": "2021-08-22T09:17:04.797198Z",
     "iopub.status.idle": "2021-08-22T09:17:09.062382Z",
     "shell.execute_reply": "2021-08-22T09:17:09.061604Z",
     "shell.execute_reply.started": "2021-08-22T07:29:36.848599Z"
    },
    "papermill": {
     "duration": 4.301583,
     "end_time": "2021-08-22T09:17:09.062536",
     "exception": false,
     "start_time": "2021-08-22T09:17:04.760953",
     "status": "completed"
    },
    "tags": []
   },
   "outputs": [],
   "source": [
    "import numpy as np\n",
    "import pandas as pd\n",
    "import os\n",
    "pd.set_option('display.max_columns',None)\n",
    "import seaborn as sns\n",
    "from collections import defaultdict\n",
    "\n",
    "def basic_summary(df):\n",
    "    \n",
    "    '''\n",
    "    Report the basic information about the input dataframe\n",
    "    \n",
    "    Args:\n",
    "    df -> pd.DataFrame\n",
    "    \n",
    "    Returns:\n",
    "    None\n",
    "    '''\n",
    "    \n",
    "    print(f\"Samples : {df.shape[0]:,} \\nColumns : {df.shape[1]} : {list(df.columns.values)}\")\n",
    "    print(\"\\nHeads\")\n",
    "    display(df.head(3))\n",
    "    print(\"\\nData types\")\n",
    "    display(pd.DataFrame(df.dtypes, columns=['dtypes']).transpose())\n",
    "    print(\"\\nNull values\")\n",
    "    display(pd.concat([df.isna().sum(),df.isna().mean() * 100],axis=1).rename({0:'count',1:'pct'},axis=1).transpose())\n",
    "    print(\"\\nBasic statistics\")\n",
    "    display(df.describe().transpose())\n",
    "      \n",
    "\n",
    "if __name__ == \"__main__\":\n",
    "    \n",
    "    BASE_PATH = '/kaggle/input/anime-recommendations-database/'\n",
    "    ANIME_DTYPES = {'anime_id': str, 'name': str, 'genre': str, 'type': str, 'episodes': str, 'rating': float, 'members': int}\n",
    "    RATING_DTYPES = {'user_id': str, 'anime_id': str, 'rating': int}\n",
    "    ANIME_PATH = os.path.join(BASE_PATH, 'anime.csv')\n",
    "    RATING_PATH = os.path.join(BASE_PATH, 'rating.csv')\n",
    "\n",
    "    anime = pd.read_csv(ANIME_PATH, dtype = ANIME_DTYPES)\n",
    "    rating = pd.read_csv(RATING_PATH,  dtype = RATING_DTYPES)"
   ]
  },
  {
   "cell_type": "markdown",
   "id": "8a03bb34",
   "metadata": {
    "papermill": {
     "duration": 0.019733,
     "end_time": "2021-08-22T09:17:09.103082",
     "exception": false,
     "start_time": "2021-08-22T09:17:09.083349",
     "status": "completed"
    },
    "tags": []
   },
   "source": [
    "# Basic summary"
   ]
  },
  {
   "cell_type": "markdown",
   "id": "6c945a29",
   "metadata": {
    "papermill": {
     "duration": 0.01947,
     "end_time": "2021-08-22T09:17:09.142612",
     "exception": false,
     "start_time": "2021-08-22T09:17:09.123142",
     "status": "completed"
    },
    "tags": []
   },
   "source": [
    "## Anime\n",
    "\n",
    "- The `anime` dataframe contains the data related to the anime. \n",
    "\n",
    "### Metadata\n",
    "\n",
    "- anime_id - myanimelist.net's unique id identifying an anime.\n",
    "- name - full name of anime.\n",
    "- genre - comma separated list of genres for this anime.\n",
    "- type - movie, TV, OVA, etc.\n",
    "- episodes - how many episodes in this show. (1 if movie).\n",
    "- rating - average rating out of 10 for this anime.\n",
    "- members - number of community members that are in this anime's \"group\"."
   ]
  },
  {
   "cell_type": "code",
   "execution_count": 2,
   "id": "d3627743",
   "metadata": {
    "execution": {
     "iopub.execute_input": "2021-08-22T09:17:09.192950Z",
     "iopub.status.busy": "2021-08-22T09:17:09.192294Z",
     "iopub.status.idle": "2021-08-22T09:17:09.278145Z",
     "shell.execute_reply": "2021-08-22T09:17:09.277643Z",
     "shell.execute_reply.started": "2021-08-22T07:29:42.368140Z"
    },
    "papermill": {
     "duration": 0.115877,
     "end_time": "2021-08-22T09:17:09.278277",
     "exception": false,
     "start_time": "2021-08-22T09:17:09.162400",
     "status": "completed"
    },
    "tags": []
   },
   "outputs": [
    {
     "name": "stdout",
     "output_type": "stream",
     "text": [
      "Samples : 12,294 \n",
      "Columns : 7 : ['anime_id', 'name', 'genre', 'type', 'episodes', 'rating', 'members']\n",
      "\n",
      "Heads\n"
     ]
    },
    {
     "data": {
      "text/html": [
       "<div>\n",
       "<style scoped>\n",
       "    .dataframe tbody tr th:only-of-type {\n",
       "        vertical-align: middle;\n",
       "    }\n",
       "\n",
       "    .dataframe tbody tr th {\n",
       "        vertical-align: top;\n",
       "    }\n",
       "\n",
       "    .dataframe thead th {\n",
       "        text-align: right;\n",
       "    }\n",
       "</style>\n",
       "<table border=\"1\" class=\"dataframe\">\n",
       "  <thead>\n",
       "    <tr style=\"text-align: right;\">\n",
       "      <th></th>\n",
       "      <th>anime_id</th>\n",
       "      <th>name</th>\n",
       "      <th>genre</th>\n",
       "      <th>type</th>\n",
       "      <th>episodes</th>\n",
       "      <th>rating</th>\n",
       "      <th>members</th>\n",
       "    </tr>\n",
       "  </thead>\n",
       "  <tbody>\n",
       "    <tr>\n",
       "      <th>0</th>\n",
       "      <td>32281</td>\n",
       "      <td>Kimi no Na wa.</td>\n",
       "      <td>Drama, Romance, School, Supernatural</td>\n",
       "      <td>Movie</td>\n",
       "      <td>1</td>\n",
       "      <td>9.37</td>\n",
       "      <td>200630</td>\n",
       "    </tr>\n",
       "    <tr>\n",
       "      <th>1</th>\n",
       "      <td>5114</td>\n",
       "      <td>Fullmetal Alchemist: Brotherhood</td>\n",
       "      <td>Action, Adventure, Drama, Fantasy, Magic, Mili...</td>\n",
       "      <td>TV</td>\n",
       "      <td>64</td>\n",
       "      <td>9.26</td>\n",
       "      <td>793665</td>\n",
       "    </tr>\n",
       "    <tr>\n",
       "      <th>2</th>\n",
       "      <td>28977</td>\n",
       "      <td>Gintama°</td>\n",
       "      <td>Action, Comedy, Historical, Parody, Samurai, S...</td>\n",
       "      <td>TV</td>\n",
       "      <td>51</td>\n",
       "      <td>9.25</td>\n",
       "      <td>114262</td>\n",
       "    </tr>\n",
       "  </tbody>\n",
       "</table>\n",
       "</div>"
      ],
      "text/plain": [
       "  anime_id                              name  \\\n",
       "0    32281                    Kimi no Na wa.   \n",
       "1     5114  Fullmetal Alchemist: Brotherhood   \n",
       "2    28977                          Gintama°   \n",
       "\n",
       "                                               genre   type episodes  rating  \\\n",
       "0               Drama, Romance, School, Supernatural  Movie        1    9.37   \n",
       "1  Action, Adventure, Drama, Fantasy, Magic, Mili...     TV       64    9.26   \n",
       "2  Action, Comedy, Historical, Parody, Samurai, S...     TV       51    9.25   \n",
       "\n",
       "   members  \n",
       "0   200630  \n",
       "1   793665  \n",
       "2   114262  "
      ]
     },
     "metadata": {},
     "output_type": "display_data"
    },
    {
     "name": "stdout",
     "output_type": "stream",
     "text": [
      "\n",
      "Data types\n"
     ]
    },
    {
     "data": {
      "text/html": [
       "<div>\n",
       "<style scoped>\n",
       "    .dataframe tbody tr th:only-of-type {\n",
       "        vertical-align: middle;\n",
       "    }\n",
       "\n",
       "    .dataframe tbody tr th {\n",
       "        vertical-align: top;\n",
       "    }\n",
       "\n",
       "    .dataframe thead th {\n",
       "        text-align: right;\n",
       "    }\n",
       "</style>\n",
       "<table border=\"1\" class=\"dataframe\">\n",
       "  <thead>\n",
       "    <tr style=\"text-align: right;\">\n",
       "      <th></th>\n",
       "      <th>anime_id</th>\n",
       "      <th>name</th>\n",
       "      <th>genre</th>\n",
       "      <th>type</th>\n",
       "      <th>episodes</th>\n",
       "      <th>rating</th>\n",
       "      <th>members</th>\n",
       "    </tr>\n",
       "  </thead>\n",
       "  <tbody>\n",
       "    <tr>\n",
       "      <th>dtypes</th>\n",
       "      <td>object</td>\n",
       "      <td>object</td>\n",
       "      <td>object</td>\n",
       "      <td>object</td>\n",
       "      <td>object</td>\n",
       "      <td>float64</td>\n",
       "      <td>int64</td>\n",
       "    </tr>\n",
       "  </tbody>\n",
       "</table>\n",
       "</div>"
      ],
      "text/plain": [
       "       anime_id    name   genre    type episodes   rating members\n",
       "dtypes   object  object  object  object   object  float64   int64"
      ]
     },
     "metadata": {},
     "output_type": "display_data"
    },
    {
     "name": "stdout",
     "output_type": "stream",
     "text": [
      "\n",
      "Null values\n"
     ]
    },
    {
     "data": {
      "text/html": [
       "<div>\n",
       "<style scoped>\n",
       "    .dataframe tbody tr th:only-of-type {\n",
       "        vertical-align: middle;\n",
       "    }\n",
       "\n",
       "    .dataframe tbody tr th {\n",
       "        vertical-align: top;\n",
       "    }\n",
       "\n",
       "    .dataframe thead th {\n",
       "        text-align: right;\n",
       "    }\n",
       "</style>\n",
       "<table border=\"1\" class=\"dataframe\">\n",
       "  <thead>\n",
       "    <tr style=\"text-align: right;\">\n",
       "      <th></th>\n",
       "      <th>anime_id</th>\n",
       "      <th>name</th>\n",
       "      <th>genre</th>\n",
       "      <th>type</th>\n",
       "      <th>episodes</th>\n",
       "      <th>rating</th>\n",
       "      <th>members</th>\n",
       "    </tr>\n",
       "  </thead>\n",
       "  <tbody>\n",
       "    <tr>\n",
       "      <th>count</th>\n",
       "      <td>0.0</td>\n",
       "      <td>0.0</td>\n",
       "      <td>62.000000</td>\n",
       "      <td>25.000000</td>\n",
       "      <td>0.0</td>\n",
       "      <td>230.000000</td>\n",
       "      <td>0.0</td>\n",
       "    </tr>\n",
       "    <tr>\n",
       "      <th>pct</th>\n",
       "      <td>0.0</td>\n",
       "      <td>0.0</td>\n",
       "      <td>0.504311</td>\n",
       "      <td>0.203351</td>\n",
       "      <td>0.0</td>\n",
       "      <td>1.870831</td>\n",
       "      <td>0.0</td>\n",
       "    </tr>\n",
       "  </tbody>\n",
       "</table>\n",
       "</div>"
      ],
      "text/plain": [
       "       anime_id  name      genre       type  episodes      rating  members\n",
       "count       0.0   0.0  62.000000  25.000000       0.0  230.000000      0.0\n",
       "pct         0.0   0.0   0.504311   0.203351       0.0    1.870831      0.0"
      ]
     },
     "metadata": {},
     "output_type": "display_data"
    },
    {
     "name": "stdout",
     "output_type": "stream",
     "text": [
      "\n",
      "Basic statistics\n"
     ]
    },
    {
     "data": {
      "text/html": [
       "<div>\n",
       "<style scoped>\n",
       "    .dataframe tbody tr th:only-of-type {\n",
       "        vertical-align: middle;\n",
       "    }\n",
       "\n",
       "    .dataframe tbody tr th {\n",
       "        vertical-align: top;\n",
       "    }\n",
       "\n",
       "    .dataframe thead th {\n",
       "        text-align: right;\n",
       "    }\n",
       "</style>\n",
       "<table border=\"1\" class=\"dataframe\">\n",
       "  <thead>\n",
       "    <tr style=\"text-align: right;\">\n",
       "      <th></th>\n",
       "      <th>count</th>\n",
       "      <th>mean</th>\n",
       "      <th>std</th>\n",
       "      <th>min</th>\n",
       "      <th>25%</th>\n",
       "      <th>50%</th>\n",
       "      <th>75%</th>\n",
       "      <th>max</th>\n",
       "    </tr>\n",
       "  </thead>\n",
       "  <tbody>\n",
       "    <tr>\n",
       "      <th>rating</th>\n",
       "      <td>12064.0</td>\n",
       "      <td>6.473902</td>\n",
       "      <td>1.026746</td>\n",
       "      <td>1.67</td>\n",
       "      <td>5.88</td>\n",
       "      <td>6.57</td>\n",
       "      <td>7.18</td>\n",
       "      <td>10.0</td>\n",
       "    </tr>\n",
       "    <tr>\n",
       "      <th>members</th>\n",
       "      <td>12294.0</td>\n",
       "      <td>18071.338864</td>\n",
       "      <td>54820.676925</td>\n",
       "      <td>5.00</td>\n",
       "      <td>225.00</td>\n",
       "      <td>1550.00</td>\n",
       "      <td>9437.00</td>\n",
       "      <td>1013917.0</td>\n",
       "    </tr>\n",
       "  </tbody>\n",
       "</table>\n",
       "</div>"
      ],
      "text/plain": [
       "           count          mean           std   min     25%      50%      75%  \\\n",
       "rating   12064.0      6.473902      1.026746  1.67    5.88     6.57     7.18   \n",
       "members  12294.0  18071.338864  54820.676925  5.00  225.00  1550.00  9437.00   \n",
       "\n",
       "               max  \n",
       "rating        10.0  \n",
       "members  1013917.0  "
      ]
     },
     "metadata": {},
     "output_type": "display_data"
    }
   ],
   "source": [
    "basic_summary(anime)"
   ]
  },
  {
   "cell_type": "markdown",
   "id": "76762dac",
   "metadata": {
    "papermill": {
     "duration": 0.022133,
     "end_time": "2021-08-22T09:17:09.323361",
     "exception": false,
     "start_time": "2021-08-22T09:17:09.301228",
     "status": "completed"
    },
    "tags": []
   },
   "source": [
    "# Rating\n",
    "\n",
    "- The `rating` dataframe contains raw data of how each user rate each anime.\n",
    "- The rating score is in range [0,10]\n",
    "\n",
    "### Metadata\n",
    "\n",
    "- user_id - non identifiable randomly generated user id.\n",
    "- anime_id - the anime that this user has rated.\n",
    "- rating - rating out of 10 this user has assigned (-1 if the user watched it but didn't assign a rating)."
   ]
  },
  {
   "cell_type": "code",
   "execution_count": 3,
   "id": "2bd65a1d",
   "metadata": {
    "execution": {
     "iopub.execute_input": "2021-08-22T09:17:09.378575Z",
     "iopub.status.busy": "2021-08-22T09:17:09.377985Z",
     "iopub.status.idle": "2021-08-22T09:17:10.887135Z",
     "shell.execute_reply": "2021-08-22T09:17:10.886673Z",
     "shell.execute_reply.started": "2021-08-22T07:29:42.495978Z"
    },
    "papermill": {
     "duration": 1.5405,
     "end_time": "2021-08-22T09:17:10.887266",
     "exception": false,
     "start_time": "2021-08-22T09:17:09.346766",
     "status": "completed"
    },
    "tags": []
   },
   "outputs": [
    {
     "name": "stdout",
     "output_type": "stream",
     "text": [
      "Samples : 7,813,737 \n",
      "Columns : 3 : ['user_id', 'anime_id', 'rating']\n",
      "\n",
      "Heads\n"
     ]
    },
    {
     "data": {
      "text/html": [
       "<div>\n",
       "<style scoped>\n",
       "    .dataframe tbody tr th:only-of-type {\n",
       "        vertical-align: middle;\n",
       "    }\n",
       "\n",
       "    .dataframe tbody tr th {\n",
       "        vertical-align: top;\n",
       "    }\n",
       "\n",
       "    .dataframe thead th {\n",
       "        text-align: right;\n",
       "    }\n",
       "</style>\n",
       "<table border=\"1\" class=\"dataframe\">\n",
       "  <thead>\n",
       "    <tr style=\"text-align: right;\">\n",
       "      <th></th>\n",
       "      <th>user_id</th>\n",
       "      <th>anime_id</th>\n",
       "      <th>rating</th>\n",
       "    </tr>\n",
       "  </thead>\n",
       "  <tbody>\n",
       "    <tr>\n",
       "      <th>0</th>\n",
       "      <td>1</td>\n",
       "      <td>20</td>\n",
       "      <td>-1</td>\n",
       "    </tr>\n",
       "    <tr>\n",
       "      <th>1</th>\n",
       "      <td>1</td>\n",
       "      <td>24</td>\n",
       "      <td>-1</td>\n",
       "    </tr>\n",
       "    <tr>\n",
       "      <th>2</th>\n",
       "      <td>1</td>\n",
       "      <td>79</td>\n",
       "      <td>-1</td>\n",
       "    </tr>\n",
       "  </tbody>\n",
       "</table>\n",
       "</div>"
      ],
      "text/plain": [
       "  user_id anime_id  rating\n",
       "0       1       20      -1\n",
       "1       1       24      -1\n",
       "2       1       79      -1"
      ]
     },
     "metadata": {},
     "output_type": "display_data"
    },
    {
     "name": "stdout",
     "output_type": "stream",
     "text": [
      "\n",
      "Data types\n"
     ]
    },
    {
     "data": {
      "text/html": [
       "<div>\n",
       "<style scoped>\n",
       "    .dataframe tbody tr th:only-of-type {\n",
       "        vertical-align: middle;\n",
       "    }\n",
       "\n",
       "    .dataframe tbody tr th {\n",
       "        vertical-align: top;\n",
       "    }\n",
       "\n",
       "    .dataframe thead th {\n",
       "        text-align: right;\n",
       "    }\n",
       "</style>\n",
       "<table border=\"1\" class=\"dataframe\">\n",
       "  <thead>\n",
       "    <tr style=\"text-align: right;\">\n",
       "      <th></th>\n",
       "      <th>user_id</th>\n",
       "      <th>anime_id</th>\n",
       "      <th>rating</th>\n",
       "    </tr>\n",
       "  </thead>\n",
       "  <tbody>\n",
       "    <tr>\n",
       "      <th>dtypes</th>\n",
       "      <td>object</td>\n",
       "      <td>object</td>\n",
       "      <td>int64</td>\n",
       "    </tr>\n",
       "  </tbody>\n",
       "</table>\n",
       "</div>"
      ],
      "text/plain": [
       "       user_id anime_id rating\n",
       "dtypes  object   object  int64"
      ]
     },
     "metadata": {},
     "output_type": "display_data"
    },
    {
     "name": "stdout",
     "output_type": "stream",
     "text": [
      "\n",
      "Null values\n"
     ]
    },
    {
     "data": {
      "text/html": [
       "<div>\n",
       "<style scoped>\n",
       "    .dataframe tbody tr th:only-of-type {\n",
       "        vertical-align: middle;\n",
       "    }\n",
       "\n",
       "    .dataframe tbody tr th {\n",
       "        vertical-align: top;\n",
       "    }\n",
       "\n",
       "    .dataframe thead th {\n",
       "        text-align: right;\n",
       "    }\n",
       "</style>\n",
       "<table border=\"1\" class=\"dataframe\">\n",
       "  <thead>\n",
       "    <tr style=\"text-align: right;\">\n",
       "      <th></th>\n",
       "      <th>user_id</th>\n",
       "      <th>anime_id</th>\n",
       "      <th>rating</th>\n",
       "    </tr>\n",
       "  </thead>\n",
       "  <tbody>\n",
       "    <tr>\n",
       "      <th>count</th>\n",
       "      <td>0.0</td>\n",
       "      <td>0.0</td>\n",
       "      <td>0.0</td>\n",
       "    </tr>\n",
       "    <tr>\n",
       "      <th>pct</th>\n",
       "      <td>0.0</td>\n",
       "      <td>0.0</td>\n",
       "      <td>0.0</td>\n",
       "    </tr>\n",
       "  </tbody>\n",
       "</table>\n",
       "</div>"
      ],
      "text/plain": [
       "       user_id  anime_id  rating\n",
       "count      0.0       0.0     0.0\n",
       "pct        0.0       0.0     0.0"
      ]
     },
     "metadata": {},
     "output_type": "display_data"
    },
    {
     "name": "stdout",
     "output_type": "stream",
     "text": [
      "\n",
      "Basic statistics\n"
     ]
    },
    {
     "data": {
      "text/html": [
       "<div>\n",
       "<style scoped>\n",
       "    .dataframe tbody tr th:only-of-type {\n",
       "        vertical-align: middle;\n",
       "    }\n",
       "\n",
       "    .dataframe tbody tr th {\n",
       "        vertical-align: top;\n",
       "    }\n",
       "\n",
       "    .dataframe thead th {\n",
       "        text-align: right;\n",
       "    }\n",
       "</style>\n",
       "<table border=\"1\" class=\"dataframe\">\n",
       "  <thead>\n",
       "    <tr style=\"text-align: right;\">\n",
       "      <th></th>\n",
       "      <th>count</th>\n",
       "      <th>mean</th>\n",
       "      <th>std</th>\n",
       "      <th>min</th>\n",
       "      <th>25%</th>\n",
       "      <th>50%</th>\n",
       "      <th>75%</th>\n",
       "      <th>max</th>\n",
       "    </tr>\n",
       "  </thead>\n",
       "  <tbody>\n",
       "    <tr>\n",
       "      <th>rating</th>\n",
       "      <td>7813737.0</td>\n",
       "      <td>6.14403</td>\n",
       "      <td>3.7278</td>\n",
       "      <td>-1.0</td>\n",
       "      <td>6.0</td>\n",
       "      <td>7.0</td>\n",
       "      <td>9.0</td>\n",
       "      <td>10.0</td>\n",
       "    </tr>\n",
       "  </tbody>\n",
       "</table>\n",
       "</div>"
      ],
      "text/plain": [
       "            count     mean     std  min  25%  50%  75%   max\n",
       "rating  7813737.0  6.14403  3.7278 -1.0  6.0  7.0  9.0  10.0"
      ]
     },
     "metadata": {},
     "output_type": "display_data"
    }
   ],
   "source": [
    "basic_summary(rating)"
   ]
  },
  {
   "cell_type": "markdown",
   "id": "57f53bd0",
   "metadata": {
    "papermill": {
     "duration": 0.024736,
     "end_time": "2021-08-22T09:17:10.937354",
     "exception": false,
     "start_time": "2021-08-22T09:17:10.912618",
     "status": "completed"
    },
    "tags": []
   },
   "source": [
    "# Popular based recommendation\n",
    "\n",
    "Regarding the IMDB syetem, there have a metrics called \"weighted rating system\" that is used to score the rating of each movie.\n",
    "\n",
    "weighted rating \n",
    "```\n",
    "(WR) = (v ÷ (v+m)) × R + (m ÷ (v+m)) × C \n",
    "```\n",
    "where:\n",
    "- R = average rating for the movie. (rating)\n",
    "- v = number of votes for the movie. (members)\n",
    "- m = minimum votes required to be listed in the Top 250 (defined by > percentile 80 of total votes)\n",
    "- C = the average rating across the whole dataset."
   ]
  },
  {
   "cell_type": "code",
   "execution_count": 4,
   "id": "5117c318",
   "metadata": {
    "execution": {
     "iopub.execute_input": "2021-08-22T09:17:10.997465Z",
     "iopub.status.busy": "2021-08-22T09:17:10.996460Z",
     "iopub.status.idle": "2021-08-22T09:17:10.999193Z",
     "shell.execute_reply": "2021-08-22T09:17:10.999587Z",
     "shell.execute_reply.started": "2021-08-22T07:29:45.923525Z"
    },
    "papermill": {
     "duration": 0.037259,
     "end_time": "2021-08-22T09:17:10.999774",
     "exception": false,
     "start_time": "2021-08-22T09:17:10.962515",
     "status": "completed"
    },
    "tags": []
   },
   "outputs": [],
   "source": [
    "def weighted_rating(v,m,R,C):\n",
    "    '''\n",
    "    Calculate the weighted rating\n",
    "    \n",
    "    Args:\n",
    "    v -> average rating for each anime (float)\n",
    "    m -> minimum votes required to be classified as popular (float)\n",
    "    R -> average rating for the anime (pd.Series)\n",
    "    C -> average rating for the whole dataset (pd.Series)\n",
    "    \n",
    "    Returns:\n",
    "    pd.Series\n",
    "    '''\n",
    "    return ( (v / (v + m)) * R) + ( (m / (v + m)) * C )\n",
    "\n",
    "def assign_popular_based_score(rating):\n",
    "    '''\n",
    "    Assigned popular based score based on the IMDB weighted average.\n",
    "    \n",
    "    Args:\n",
    "    rating -> pd.DataFrame contains ['anime_id', 'rating'] for each user.\n",
    "    \n",
    "    Returns\n",
    "    popular_anime -> pd.DataFrame contains anime name and IMDB weighted score.\n",
    "    '''\n",
    "    \n",
    "    # pre processing\n",
    "    filter_rating = rating[rating['rating'] != -1]\n",
    "    vote_count = filter_rating.groupby('anime_id',as_index=False).agg({'user_id':'count', 'rating':'mean'})\n",
    "    vote_count.columns = ['anime_id','vote_count', 'avg_rating']\n",
    "    \n",
    "    # calcuate input parameters\n",
    "    C = np.mean(vote_count['avg_rating'])\n",
    "    m = np.percentile(vote_count['vote_count'], 70)\n",
    "    vote_count = vote_count[vote_count['vote_count'] >= m]\n",
    "    R = vote_count['avg_rating']\n",
    "    v = vote_count['vote_count']\n",
    "    vote_count['weighted_rating'] = weighted_rating(v,m,R,C)\n",
    "    \n",
    "    # post processing\n",
    "    vote_count = vote_count.merge(anime[['anime_id','name']],on=['anime_id'],how='left')\n",
    "    vote_count = vote_count.drop('anime_id', axis=1)\n",
    "    popular_anime = vote_count.loc[:,['name', 'vote_count', 'avg_rating', 'weighted_rating']]\n",
    "    \n",
    "    return popular_anime"
   ]
  },
  {
   "cell_type": "code",
   "execution_count": 5,
   "id": "a2db38a7",
   "metadata": {
    "execution": {
     "iopub.execute_input": "2021-08-22T09:17:11.060339Z",
     "iopub.status.busy": "2021-08-22T09:17:11.059497Z",
     "iopub.status.idle": "2021-08-22T09:17:12.254350Z",
     "shell.execute_reply": "2021-08-22T09:17:12.253566Z",
     "shell.execute_reply.started": "2021-08-22T07:29:45.936856Z"
    },
    "papermill": {
     "duration": 1.228201,
     "end_time": "2021-08-22T09:17:12.254518",
     "exception": false,
     "start_time": "2021-08-22T09:17:11.026317",
     "status": "completed"
    },
    "tags": []
   },
   "outputs": [],
   "source": [
    "popular_anime = assign_popular_based_score(rating)"
   ]
  },
  {
   "cell_type": "markdown",
   "id": "f8820252",
   "metadata": {
    "papermill": {
     "duration": 0.0258,
     "end_time": "2021-08-22T09:17:12.306195",
     "exception": false,
     "start_time": "2021-08-22T09:17:12.280395",
     "status": "completed"
    },
    "tags": []
   },
   "source": [
    "# Popularity based on the number of votes count"
   ]
  },
  {
   "cell_type": "code",
   "execution_count": 6,
   "id": "40c21a5c",
   "metadata": {
    "execution": {
     "iopub.execute_input": "2021-08-22T09:17:12.364129Z",
     "iopub.status.busy": "2021-08-22T09:17:12.363176Z",
     "iopub.status.idle": "2021-08-22T09:17:12.599110Z",
     "shell.execute_reply": "2021-08-22T09:17:12.598138Z",
     "shell.execute_reply.started": "2021-08-22T07:29:47.723584Z"
    },
    "papermill": {
     "duration": 0.267176,
     "end_time": "2021-08-22T09:17:12.599294",
     "exception": false,
     "start_time": "2021-08-22T09:17:12.332118",
     "status": "completed"
    },
    "tags": []
   },
   "outputs": [
    {
     "data": {
      "image/png": "[encoded data removed]",
      "text/plain": [
       "<Figure size 432x288 with 1 Axes>"
      ]
     },
     "metadata": {
      "needs_background": "light"
     },
     "output_type": "display_data"
    }
   ],
   "source": [
    "sns.barplot(data = popular_anime.sort_values('vote_count',ascending=False).head(10),\n",
    "            x = 'vote_count', y = 'name', palette='mako');\n",
    "sns.despine()"
   ]
  },
  {
   "cell_type": "markdown",
   "id": "935a44bb",
   "metadata": {
    "papermill": {
     "duration": 0.026405,
     "end_time": "2021-08-22T09:17:12.652762",
     "exception": false,
     "start_time": "2021-08-22T09:17:12.626357",
     "status": "completed"
    },
    "tags": []
   },
   "source": [
    "## Popularity based on the weighted score"
   ]
  },
  {
   "cell_type": "code",
   "execution_count": 7,
   "id": "352f0505",
   "metadata": {
    "execution": {
     "iopub.execute_input": "2021-08-22T09:17:12.711438Z",
     "iopub.status.busy": "2021-08-22T09:17:12.710822Z",
     "iopub.status.idle": "2021-08-22T09:17:12.901937Z",
     "shell.execute_reply": "2021-08-22T09:17:12.902364Z",
     "shell.execute_reply.started": "2021-08-22T07:29:48.016127Z"
    },
    "papermill": {
     "duration": 0.223077,
     "end_time": "2021-08-22T09:17:12.902546",
     "exception": false,
     "start_time": "2021-08-22T09:17:12.679469",
     "status": "completed"
    },
    "tags": []
   },
   "outputs": [
    {
     "data": {
      "image/png": "[encoded data removed]",
      "text/plain": [
       "<Figure size 432x288 with 1 Axes>"
      ]
     },
     "metadata": {
      "needs_background": "light"
     },
     "output_type": "display_data"
    }
   ],
   "source": [
    "sns.barplot(data = popular_anime.sort_values('weighted_rating',ascending=False).head(10),\n",
    "            x = 'weighted_rating', y = 'name', palette = 'mako');\n",
    "sns.despine()"
   ]
  },
  {
   "cell_type": "markdown",
   "id": "d260bcb4",
   "metadata": {
    "papermill": {
     "duration": 0.02613,
     "end_time": "2021-08-22T09:17:12.955428",
     "exception": false,
     "start_time": "2021-08-22T09:17:12.929298",
     "status": "completed"
    },
    "tags": []
   },
   "source": [
    "## Actions\n",
    "\n",
    "1. For new users, if we don't have any information about them we can provide the list based on ranking the `vote_count` or `weighted_rating` as a best guess."
   ]
  },
  {
   "cell_type": "markdown",
   "id": "80452b15",
   "metadata": {
    "papermill": {
     "duration": 0.02622,
     "end_time": "2021-08-22T09:17:13.008117",
     "exception": false,
     "start_time": "2021-08-22T09:17:12.981897",
     "status": "completed"
    },
    "tags": []
   },
   "source": [
    "# Collaborative filtering\n",
    "\n",
    "the implementation is inspired by : https://www.ethanrosenthal.com/2015/11/02/intro-to-collaborative-filtering/ <br>\n",
    "for brief summary : https://towardsdatascience.com/intro-to-recommender-system-collaborative-filtering-64a238194a26"
   ]
  },
  {
   "cell_type": "code",
   "execution_count": 8,
   "id": "e3982880",
   "metadata": {
    "execution": {
     "iopub.execute_input": "2021-08-22T09:17:13.065016Z",
     "iopub.status.busy": "2021-08-22T09:17:13.064368Z",
     "iopub.status.idle": "2021-08-22T09:17:15.132674Z",
     "shell.execute_reply": "2021-08-22T09:17:15.133758Z",
     "shell.execute_reply.started": "2021-08-22T07:29:48.257634Z"
    },
    "papermill": {
     "duration": 2.098789,
     "end_time": "2021-08-22T09:17:15.134016",
     "exception": false,
     "start_time": "2021-08-22T09:17:13.035227",
     "status": "completed"
    },
    "tags": []
   },
   "outputs": [
    {
     "name": "stdout",
     "output_type": "stream",
     "text": [
      "Unique users : 73,515 \n",
      "Unique anime : 11,200\n"
     ]
    }
   ],
   "source": [
    "collab_rating = rating.copy()\n",
    "collab_rating['rating'] = collab_rating['rating'].replace(-1, 0)\n",
    "\n",
    "n_users = collab_rating['user_id'].nunique()\n",
    "n_animes = collab_rating['anime_id'].nunique()\n",
    "print(f\"Unique users : {n_users:,} \\nUnique anime : {n_animes:,}\")"
   ]
  },
  {
   "cell_type": "code",
   "execution_count": 9,
   "id": "d8674da9",
   "metadata": {
    "execution": {
     "iopub.execute_input": "2021-08-22T09:17:15.481886Z",
     "iopub.status.busy": "2021-08-22T09:17:15.304082Z",
     "iopub.status.idle": "2021-08-22T09:17:21.717072Z",
     "shell.execute_reply": "2021-08-22T09:17:21.716407Z",
     "shell.execute_reply.started": "2021-08-22T07:29:51.656399Z"
    },
    "papermill": {
     "duration": 6.55536,
     "end_time": "2021-08-22T09:17:21.717213",
     "exception": false,
     "start_time": "2021-08-22T09:17:15.161853",
     "status": "completed"
    },
    "tags": []
   },
   "outputs": [],
   "source": [
    "# create ordered user_id, and anime_id\n",
    "map_user_id = {v:int(i) for i,v in enumerate(sorted(collab_rating['user_id'].unique()))}\n",
    "map_anime_id = {v:int(i) for i,v in enumerate(sorted(collab_rating['anime_id'].unique()))}\n",
    "\n",
    "collab_rating['csr_user_id'] = collab_rating['user_id'].map(map_user_id)\n",
    "collab_rating['csr_anime_id'] = collab_rating['anime_id'].map(map_anime_id)\n",
    "collab_rating = collab_rating.merge(anime[['anime_id', 'name']], on='anime_id', how='left')\n",
    "map_csr_anime_id_to_name = {ind:name for ind, name in zip(collab_rating['csr_anime_id'], collab_rating['name'])}\n",
    "map_name_to_csr_anime_id = {name:ind for ind, name in map_csr_anime_id_to_name.items()}"
   ]
  },
  {
   "cell_type": "code",
   "execution_count": 10,
   "id": "120151bc",
   "metadata": {
    "execution": {
     "iopub.execute_input": "2021-08-22T09:17:21.778432Z",
     "iopub.status.busy": "2021-08-22T09:17:21.777768Z",
     "iopub.status.idle": "2021-08-22T09:17:22.364090Z",
     "shell.execute_reply": "2021-08-22T09:17:22.363493Z",
     "shell.execute_reply.started": "2021-08-22T07:30:01.083843Z"
    },
    "papermill": {
     "duration": 0.619613,
     "end_time": "2021-08-22T09:17:22.364233",
     "exception": false,
     "start_time": "2021-08-22T09:17:21.744620",
     "status": "completed"
    },
    "tags": []
   },
   "outputs": [
    {
     "name": "stdout",
     "output_type": "stream",
     "text": [
      "Sparsity: 0.77%. This means that 0.77% of the user-item ratings have a value.\n"
     ]
    }
   ],
   "source": [
    "from scipy.sparse import csr_matrix\n",
    "from tqdm.notebook import tqdm\n",
    "\n",
    "row = collab_rating['csr_user_id']\n",
    "col = collab_rating['csr_anime_id']\n",
    "data = collab_rating['rating']\n",
    "\n",
    "mat = csr_matrix((data, (row, col)), shape=(n_users, n_animes))\n",
    "mat.eliminate_zeros()\n",
    "\n",
    "sparsity = float(len(mat.nonzero()[0]))\n",
    "sparsity /= (mat.shape[0] * mat.shape[1])\n",
    "sparsity *= 100\n",
    "print(f'Sparsity: {sparsity:4.2f}%. This means that {sparsity:4.2f}% of the user-item ratings have a value.')"
   ]
  },
  {
   "cell_type": "code",
   "execution_count": 11,
   "id": "2cb0a2bf",
   "metadata": {
    "execution": {
     "iopub.execute_input": "2021-08-22T09:17:22.426290Z",
     "iopub.status.busy": "2021-08-22T09:17:22.425687Z",
     "iopub.status.idle": "2021-08-22T09:17:22.428629Z",
     "shell.execute_reply": "2021-08-22T09:17:22.428080Z",
     "shell.execute_reply.started": "2021-08-22T07:30:01.698053Z"
    },
    "papermill": {
     "duration": 0.037355,
     "end_time": "2021-08-22T09:17:22.428776",
     "exception": false,
     "start_time": "2021-08-22T09:17:22.391421",
     "status": "completed"
    },
    "tags": []
   },
   "outputs": [],
   "source": [
    "def train_test_split(mat, test_size = 0.2):\n",
    "    \n",
    "    train = mat.copy()\n",
    "    \n",
    "    test_row = []\n",
    "    test_col = []\n",
    "    test_data = []\n",
    "    \n",
    "    for user in tqdm(range(mat.shape[0])):\n",
    "        \n",
    "        user_ratings = mat[user, :].nonzero()[1] # extract the csr_anime_id that has a rating > 0\n",
    "        test_ratings = np.random.choice(user_ratings,\n",
    "                                        size = int(test_size * len(user_ratings)), # random test label based on each user_ratings size.\n",
    "                                        replace = False)\n",
    "        \n",
    "        # because the changing the csr_matrix is expensive, we store the data and create new csr_matrix instead.\n",
    "        test_row.extend([user] * len(test_ratings))\n",
    "        test_col.extend(list(test_ratings))\n",
    "        test_data.extend(list(train[user, test_ratings].toarray()[0]))\n",
    "        \n",
    "        train[user, test_ratings] = 0\n",
    "    \n",
    "    test = csr_matrix((test_data, (test_row, test_col)), shape=(mat.shape[0], mat.shape[1]))\n",
    "    test.eliminate_zeros()\n",
    "    \n",
    "    return train, test"
   ]
  },
  {
   "cell_type": "code",
   "execution_count": 12,
   "id": "5aa16cff",
   "metadata": {
    "execution": {
     "iopub.execute_input": "2021-08-22T09:17:22.488590Z",
     "iopub.status.busy": "2021-08-22T09:17:22.487367Z",
     "iopub.status.idle": "2021-08-22T09:18:04.481477Z",
     "shell.execute_reply": "2021-08-22T09:18:04.480964Z",
     "shell.execute_reply.started": "2021-08-22T07:30:01.710675Z"
    },
    "papermill": {
     "duration": 42.025573,
     "end_time": "2021-08-22T09:18:04.481608",
     "exception": false,
     "start_time": "2021-08-22T09:17:22.456035",
     "status": "completed"
    },
    "tags": []
   },
   "outputs": [
    {
     "data": {
      "application/vnd.jupyter.widget-view+json": {
       "model_id": "6fcb5114737546a6960ab0f251540733",
       "version_major": 2,
       "version_minor": 0
      },
      "text/plain": [
       "  0%|          | 0/73515 [00:00<?, ?it/s]"
      ]
     },
     "metadata": {},
     "output_type": "display_data"
    }
   ],
   "source": [
    "train, test = train_test_split(mat)"
   ]
  },
  {
   "cell_type": "markdown",
   "id": "92522828",
   "metadata": {
    "papermill": {
     "duration": 0.027492,
     "end_time": "2021-08-22T09:18:04.537952",
     "exception": false,
     "start_time": "2021-08-22T09:18:04.510460",
     "status": "completed"
    },
    "tags": []
   },
   "source": [
    "\n",
    "\n",
    "## Dimensionality Reduction\n",
    "\n",
    "Due to the size of user-item matrix. It's difficult to compute the user_features with `n_users x n_users` shape or the anime_features with `n_animes x n_animes` shape. <br>\n",
    "Thus, we use the `TruncatedSVD` as a dimensionality reduction tool.\n",
    "\n",
    "### TruncatedSVD\n",
    "\n",
    "> Truncated SVD shares similarity with PCA while SVD is produced from the data matrix and the factorization of PCA is generated from the covariance matrix. Unlike regular SVDs, truncated SVD produces a factorization where the number of columns can be specified for a number of truncation. (https://towardsdatascience.com/recommender-system-singular-value-decomposition-svd-truncated-svd-97096338f361)\n"
   ]
  },
  {
   "cell_type": "code",
   "execution_count": 13,
   "id": "711907f6",
   "metadata": {
    "execution": {
     "iopub.execute_input": "2021-08-22T09:18:04.597978Z",
     "iopub.status.busy": "2021-08-22T09:18:04.597270Z",
     "iopub.status.idle": "2021-08-22T09:18:08.233441Z",
     "shell.execute_reply": "2021-08-22T09:18:08.232933Z",
     "shell.execute_reply.started": "2021-08-22T07:30:53.726166Z"
    },
    "papermill": {
     "duration": 3.668172,
     "end_time": "2021-08-22T09:18:08.233604",
     "exception": false,
     "start_time": "2021-08-22T09:18:04.565432",
     "status": "completed"
    },
    "tags": []
   },
   "outputs": [
    {
     "name": "stdout",
     "output_type": "stream",
     "text": [
      "anime_features shape : (11200, 10)\n",
      "user_feature shape : (73515, 10)\n"
     ]
    }
   ],
   "source": [
    "from sklearn.decomposition import TruncatedSVD\n",
    "\n",
    "epsilon = 1e-9\n",
    "\n",
    "anime_svd = TruncatedSVD(n_components=10)\n",
    "anime_features = anime_svd.fit_transform(train.transpose()) + epsilon\n",
    "\n",
    "user_svd = TruncatedSVD(n_components=10)\n",
    "user_features = user_svd.fit_transform(train) + epsilon\n",
    "\n",
    "print(f\"anime_features shape : {anime_features.shape}\\nuser_feature shape : {user_features.shape}\")"
   ]
  },
  {
   "cell_type": "code",
   "execution_count": 14,
   "id": "e541c832",
   "metadata": {
    "execution": {
     "iopub.execute_input": "2021-08-22T09:18:08.294267Z",
     "iopub.status.busy": "2021-08-22T09:18:08.293556Z",
     "iopub.status.idle": "2021-08-22T09:18:08.296533Z",
     "shell.execute_reply": "2021-08-22T09:18:08.295948Z",
     "shell.execute_reply.started": "2021-08-22T07:30:57.772330Z"
    },
    "papermill": {
     "duration": 0.03527,
     "end_time": "2021-08-22T09:18:08.296671",
     "exception": false,
     "start_time": "2021-08-22T09:18:08.261401",
     "status": "completed"
    },
    "tags": []
   },
   "outputs": [],
   "source": [
    "def top_k_similar_anime(anime_id, top_k, corr_mat, map_name):\n",
    "    \n",
    "    # sort correlation value ascendingly and select top_k csr_anime_id\n",
    "    top_anime = corr_mat[anime_id,:].argsort()[-top_k:][::-1] \n",
    "    \n",
    "    # convert csr_anime_id to anime name\n",
    "    top_anime = [map_name[e] for e in top_anime] \n",
    "\n",
    "    return top_anime"
   ]
  },
  {
   "cell_type": "markdown",
   "id": "6adabbfa",
   "metadata": {
    "papermill": {
     "duration": 0.027562,
     "end_time": "2021-08-22T09:18:08.352546",
     "exception": false,
     "start_time": "2021-08-22T09:18:08.324984",
     "status": "completed"
    },
    "tags": []
   },
   "source": [
    "## Memory based approache\n",
    "\n",
    "There are 2 types of memory based collaborative filtering\n",
    "1. User based - The user-similarity matrix will consist of some distance metric that measures the similarity between any two pairs of users. \n",
    "2. Item based - Likewise, the item-similarity matrix will measure the similarity between any two pairs of items.\n",
    "\n",
    "> The key difference of memory-based approach from the model-based techniques is that we are **not learning any parameter** using gradient descent (or any other optimization algorithm). <br> The closest user or items are calculated only by using **Cosine similarity** or **Pearson correlation coefficients**, which are only based on arithmetic operations. (https://towardsdatascience.com/various-implementations-of-collaborative-filtering-100385c6dfe0)\n",
    "\n",
    "We calculate the pearson correlation between each anime and check up for the top_k most similar anime to recommend. \n",
    "\n",
    "**Drawback**\n",
    "1. It's not scalable."
   ]
  },
  {
   "cell_type": "markdown",
   "id": "a724d2c1",
   "metadata": {
    "papermill": {
     "duration": 0.029218,
     "end_time": "2021-08-22T09:18:08.409873",
     "exception": false,
     "start_time": "2021-08-22T09:18:08.380655",
     "status": "completed"
    },
    "tags": []
   },
   "source": [
    "### Pearson correlation"
   ]
  },
  {
   "cell_type": "code",
   "execution_count": 15,
   "id": "26f6438e",
   "metadata": {
    "execution": {
     "iopub.execute_input": "2021-08-22T09:18:08.469830Z",
     "iopub.status.busy": "2021-08-22T09:18:08.469117Z",
     "iopub.status.idle": "2021-08-22T09:18:09.869586Z",
     "shell.execute_reply": "2021-08-22T09:18:09.869076Z",
     "shell.execute_reply.started": "2021-08-22T07:30:57.782206Z"
    },
    "papermill": {
     "duration": 1.431511,
     "end_time": "2021-08-22T09:18:09.869747",
     "exception": false,
     "start_time": "2021-08-22T09:18:08.438236",
     "status": "completed"
    },
    "tags": []
   },
   "outputs": [],
   "source": [
    "corr_mat = np.corrcoef(anime_features)"
   ]
  },
  {
   "cell_type": "code",
   "execution_count": 16,
   "id": "bbe95f5c",
   "metadata": {
    "execution": {
     "iopub.execute_input": "2021-08-22T09:18:09.944830Z",
     "iopub.status.busy": "2021-08-22T09:18:09.943895Z",
     "iopub.status.idle": "2021-08-22T09:18:09.950370Z",
     "shell.execute_reply": "2021-08-22T09:18:09.949648Z",
     "shell.execute_reply.started": "2021-08-22T07:30:59.443885Z"
    },
    "papermill": {
     "duration": 0.05216,
     "end_time": "2021-08-22T09:18:09.950552",
     "exception": false,
     "start_time": "2021-08-22T09:18:09.898392",
     "status": "completed"
    },
    "tags": []
   },
   "outputs": [
    {
     "data": {
      "text/plain": [
       "['Naruto',\n",
       " 'Bleach',\n",
       " 'Dragon Ball Kai',\n",
       " 'Shaman King',\n",
       " 'Konjiki no Gash Bell!!',\n",
       " 'Toriko',\n",
       " 'Densetsu no Yuusha Da Garn',\n",
       " 'Katekyo Hitman Reborn!',\n",
       " 'Beelzebub',\n",
       " 'Bleach Movie 4: Jigoku-hen']"
      ]
     },
     "execution_count": 16,
     "metadata": {},
     "output_type": "execute_result"
    }
   ],
   "source": [
    "similar_anime = top_k_similar_anime(map_name_to_csr_anime_id['Naruto'],\n",
    "                                    top_k = 10,\n",
    "                                    corr_mat = corr_mat,\n",
    "                                    map_name = map_csr_anime_id_to_name)\n",
    "similar_anime"
   ]
  },
  {
   "cell_type": "code",
   "execution_count": 17,
   "id": "36f17e3e",
   "metadata": {
    "execution": {
     "iopub.execute_input": "2021-08-22T09:18:10.016271Z",
     "iopub.status.busy": "2021-08-22T09:18:10.015577Z",
     "iopub.status.idle": "2021-08-22T09:18:10.024088Z",
     "shell.execute_reply": "2021-08-22T09:18:10.024599Z",
     "shell.execute_reply.started": "2021-08-22T07:30:59.454552Z"
    },
    "papermill": {
     "duration": 0.041431,
     "end_time": "2021-08-22T09:18:10.024792",
     "exception": false,
     "start_time": "2021-08-22T09:18:09.983361",
     "status": "completed"
    },
    "tags": []
   },
   "outputs": [
    {
     "data": {
      "text/plain": [
       "['Death Note',\n",
       " 'Hellsing Ultimate',\n",
       " 'Soul Eater',\n",
       " 'Fullmetal Alchemist: Brotherhood',\n",
       " 'Deadman Wonderland',\n",
       " 'Afro Samurai Movie',\n",
       " 'Black Lagoon: Roberta&#039;s Blood Trail',\n",
       " 'Highschool of the Dead',\n",
       " 'Code Geass: Hangyaku no Lelouch',\n",
       " 'Berserk: Ougon Jidai-hen II - Doldrey Kouryaku']"
      ]
     },
     "execution_count": 17,
     "metadata": {},
     "output_type": "execute_result"
    }
   ],
   "source": [
    "similar_anime = top_k_similar_anime(map_name_to_csr_anime_id['Death Note'],\n",
    "                                    top_k = 10,\n",
    "                                    corr_mat = corr_mat,\n",
    "                                    map_name = map_csr_anime_id_to_name)\n",
    "similar_anime"
   ]
  },
  {
   "cell_type": "markdown",
   "id": "16fa27c3",
   "metadata": {
    "papermill": {
     "duration": 0.028218,
     "end_time": "2021-08-22T09:18:10.081845",
     "exception": false,
     "start_time": "2021-08-22T09:18:10.053627",
     "status": "completed"
    },
    "tags": []
   },
   "source": [
    "### Cosine similarity"
   ]
  },
  {
   "cell_type": "code",
   "execution_count": 18,
   "id": "8e1ff75c",
   "metadata": {
    "execution": {
     "iopub.execute_input": "2021-08-22T09:18:10.143151Z",
     "iopub.status.busy": "2021-08-22T09:18:10.142497Z",
     "iopub.status.idle": "2021-08-22T09:18:11.007291Z",
     "shell.execute_reply": "2021-08-22T09:18:11.006706Z",
     "shell.execute_reply.started": "2021-08-22T07:30:59.474010Z"
    },
    "papermill": {
     "duration": 0.896875,
     "end_time": "2021-08-22T09:18:11.007435",
     "exception": false,
     "start_time": "2021-08-22T09:18:10.110560",
     "status": "completed"
    },
    "tags": []
   },
   "outputs": [],
   "source": [
    "from sklearn.metrics.pairwise import cosine_similarity\n",
    "cosine_mat = cosine_similarity(anime_features)"
   ]
  },
  {
   "cell_type": "code",
   "execution_count": 19,
   "id": "846c72f3",
   "metadata": {
    "execution": {
     "iopub.execute_input": "2021-08-22T09:18:11.069280Z",
     "iopub.status.busy": "2021-08-22T09:18:11.068270Z",
     "iopub.status.idle": "2021-08-22T09:18:11.074513Z",
     "shell.execute_reply": "2021-08-22T09:18:11.074064Z",
     "shell.execute_reply.started": "2021-08-22T07:31:00.387111Z"
    },
    "papermill": {
     "duration": 0.038588,
     "end_time": "2021-08-22T09:18:11.074649",
     "exception": false,
     "start_time": "2021-08-22T09:18:11.036061",
     "status": "completed"
    },
    "tags": []
   },
   "outputs": [
    {
     "data": {
      "text/plain": [
       "['Naruto',\n",
       " 'Shaman King',\n",
       " 'Bleach',\n",
       " 'Soul Eater',\n",
       " 'Fullmetal Alchemist',\n",
       " 'Dragon Ball Z',\n",
       " 'Dragon Ball',\n",
       " 'Death Note',\n",
       " 'Fullmetal Alchemist: Brotherhood',\n",
       " 'Dragon Ball GT']"
      ]
     },
     "execution_count": 19,
     "metadata": {},
     "output_type": "execute_result"
    }
   ],
   "source": [
    "similar_anime = top_k_similar_anime(map_name_to_csr_anime_id['Naruto'],\n",
    "                                    top_k = 10,\n",
    "                                    corr_mat = cosine_mat,\n",
    "                                    map_name = map_csr_anime_id_to_name)\n",
    "similar_anime"
   ]
  },
  {
   "cell_type": "code",
   "execution_count": 20,
   "id": "dac5510b",
   "metadata": {
    "execution": {
     "iopub.execute_input": "2021-08-22T09:18:11.138020Z",
     "iopub.status.busy": "2021-08-22T09:18:11.136991Z",
     "iopub.status.idle": "2021-08-22T09:18:11.143346Z",
     "shell.execute_reply": "2021-08-22T09:18:11.142784Z",
     "shell.execute_reply.started": "2021-08-22T07:31:00.397401Z"
    },
    "papermill": {
     "duration": 0.039936,
     "end_time": "2021-08-22T09:18:11.143479",
     "exception": false,
     "start_time": "2021-08-22T09:18:11.103543",
     "status": "completed"
    },
    "tags": []
   },
   "outputs": [
    {
     "data": {
      "text/plain": [
       "['Death Note',\n",
       " 'Soul Eater',\n",
       " 'Fullmetal Alchemist',\n",
       " 'Elfen Lied',\n",
       " 'Code Geass: Hangyaku no Lelouch',\n",
       " 'Fullmetal Alchemist: Brotherhood',\n",
       " 'Code Geass: Hangyaku no Lelouch R2',\n",
       " 'Naruto',\n",
       " 'Shingeki no Kyojin',\n",
       " 'Angel Beats!']"
      ]
     },
     "execution_count": 20,
     "metadata": {},
     "output_type": "execute_result"
    }
   ],
   "source": [
    "similar_anime = top_k_similar_anime(map_name_to_csr_anime_id['Death Note'],\n",
    "                                    top_k = 10,\n",
    "                                    corr_mat = cosine_mat,\n",
    "                                    map_name = map_csr_anime_id_to_name)\n",
    "similar_anime"
   ]
  },
  {
   "cell_type": "markdown",
   "id": "b968e17e",
   "metadata": {
    "papermill": {
     "duration": 0.028669,
     "end_time": "2021-08-22T09:18:11.201130",
     "exception": false,
     "start_time": "2021-08-22T09:18:11.172461",
     "status": "completed"
    },
    "tags": []
   },
   "source": [
    "## Model-based approach\n",
    "\n",
    "There are 3 types of model-based approach\n",
    "1. Non parametric based\n",
    "    - KNN (Surprise)\n",
    "2. Matrix Factorization based\n",
    "    - SVD (Surprise)\n",
    "    - Probabilistic Matrix Factorization (fastai)\n",
    "    - Non-ve Matrix Factorization (Surprise)\n",
    "3. Deep learning based\n",
    "    - Embedding layer (fastai)"
   ]
  },
  {
   "cell_type": "markdown",
   "id": "43d6ae5c",
   "metadata": {
    "papermill": {
     "duration": 0.028377,
     "end_time": "2021-08-22T09:18:11.258303",
     "exception": false,
     "start_time": "2021-08-22T09:18:11.229926",
     "status": "completed"
    },
    "tags": []
   },
   "source": [
    "## Matrix factorization - SVD"
   ]
  },
  {
   "cell_type": "code",
   "execution_count": 21,
   "id": "0a4ac903",
   "metadata": {
    "execution": {
     "iopub.execute_input": "2021-08-22T09:18:11.324366Z",
     "iopub.status.busy": "2021-08-22T09:18:11.323725Z",
     "iopub.status.idle": "2021-08-22T09:25:12.444903Z",
     "shell.execute_reply": "2021-08-22T09:25:12.444190Z",
     "shell.execute_reply.started": "2021-08-22T08:30:33.801069Z"
    },
    "papermill": {
     "duration": 421.15773,
     "end_time": "2021-08-22T09:25:12.445085",
     "exception": false,
     "start_time": "2021-08-22T09:18:11.287355",
     "status": "completed"
    },
    "tags": []
   },
   "outputs": [
    {
     "name": "stdout",
     "output_type": "stream",
     "text": [
      "RMSE: 1.9521\n"
     ]
    },
    {
     "data": {
      "text/plain": [
       "1.952126331889687"
      ]
     },
     "execution_count": 21,
     "metadata": {},
     "output_type": "execute_result"
    }
   ],
   "source": [
    "from surprise import SVD, accuracy\n",
    "from surprise import Dataset, Reader\n",
    "from surprise.model_selection import cross_validate\n",
    "from surprise.model_selection.split import train_test_split\n",
    "\n",
    "def pred2dict(predictions, top_k=None):\n",
    "    \n",
    "    rec_dict = defaultdict(list)\n",
    "    for user_id, anime_id, actual_rating, pred_rating, _ in tqdm(predictions):\n",
    "        rec_dict[user_id].append((anime_id, pred_rating))        \n",
    "        \n",
    "    return rec_dict\n",
    "\n",
    "def get_top_k_recommendation(rec_dict, user_id, top_k, animeid2name):\n",
    "    \n",
    "    pred_ratings = rec_dict[user_id]\n",
    "    pred_ratings = sorted(pred_ratings, key=lambda x: x[1], reverse=True) # sort descendingly by pred_rating\n",
    "    pred_ratings = pred_ratings[:top_k]\n",
    "    recs = [animeid2name[e[0]] for e in pred_ratings]\n",
    "    \n",
    "    return recs\n",
    "\n",
    "reader = Reader(rating_scale=(1,10))\n",
    "data = Dataset.load_from_df(collab_rating[['user_id','anime_id','rating']], reader)\n",
    "train, test = train_test_split(data, test_size=.2, random_state=42)\n",
    "\n",
    "algo = SVD()\n",
    "algo.fit(train)\n",
    "pred = algo.test(test)\n",
    "accuracy.rmse(pred)"
   ]
  },
  {
   "cell_type": "markdown",
   "id": "7978ace9",
   "metadata": {
    "papermill": {
     "duration": 0.029047,
     "end_time": "2021-08-22T09:25:12.504552",
     "exception": false,
     "start_time": "2021-08-22T09:25:12.475505",
     "status": "completed"
    },
    "tags": []
   },
   "source": [
    "### Prediction - SVD"
   ]
  },
  {
   "cell_type": "code",
   "execution_count": 22,
   "id": "14bbc4e3",
   "metadata": {
    "execution": {
     "iopub.execute_input": "2021-08-22T09:25:12.995793Z",
     "iopub.status.busy": "2021-08-22T09:25:12.989192Z",
     "iopub.status.idle": "2021-08-22T09:25:13.017896Z",
     "shell.execute_reply": "2021-08-22T09:25:13.016976Z",
     "shell.execute_reply.started": "2021-08-22T09:09:53.299928Z"
    },
    "papermill": {
     "duration": 0.48379,
     "end_time": "2021-08-22T09:25:13.018045",
     "exception": false,
     "start_time": "2021-08-22T09:25:12.534255",
     "status": "completed"
    },
    "tags": []
   },
   "outputs": [
    {
     "data": {
      "text/html": [
       "<div>\n",
       "<style scoped>\n",
       "    .dataframe tbody tr th:only-of-type {\n",
       "        vertical-align: middle;\n",
       "    }\n",
       "\n",
       "    .dataframe tbody tr th {\n",
       "        vertical-align: top;\n",
       "    }\n",
       "\n",
       "    .dataframe thead th {\n",
       "        text-align: right;\n",
       "    }\n",
       "</style>\n",
       "<table border=\"1\" class=\"dataframe\">\n",
       "  <thead>\n",
       "    <tr style=\"text-align: right;\">\n",
       "      <th></th>\n",
       "      <th>user_id</th>\n",
       "      <th>anime_id</th>\n",
       "      <th>rating</th>\n",
       "      <th>csr_user_id</th>\n",
       "      <th>csr_anime_id</th>\n",
       "      <th>name</th>\n",
       "    </tr>\n",
       "  </thead>\n",
       "  <tbody>\n",
       "    <tr>\n",
       "      <th>221</th>\n",
       "      <td>3</td>\n",
       "      <td>20159</td>\n",
       "      <td>10</td>\n",
       "      <td>22222</td>\n",
       "      <td>3247</td>\n",
       "      <td>Pokemon: The Origin</td>\n",
       "    </tr>\n",
       "    <tr>\n",
       "      <th>173</th>\n",
       "      <td>3</td>\n",
       "      <td>1535</td>\n",
       "      <td>10</td>\n",
       "      <td>22222</td>\n",
       "      <td>1768</td>\n",
       "      <td>Death Note</td>\n",
       "    </tr>\n",
       "    <tr>\n",
       "      <th>195</th>\n",
       "      <td>3</td>\n",
       "      <td>9989</td>\n",
       "      <td>10</td>\n",
       "      <td>22222</td>\n",
       "      <td>11192</td>\n",
       "      <td>Ano Hi Mita Hana no Namae wo Bokutachi wa Mada...</td>\n",
       "    </tr>\n",
       "    <tr>\n",
       "      <th>212</th>\n",
       "      <td>3</td>\n",
       "      <td>16894</td>\n",
       "      <td>10</td>\n",
       "      <td>22222</td>\n",
       "      <td>2227</td>\n",
       "      <td>Kuroko no Basket 2nd Season</td>\n",
       "    </tr>\n",
       "    <tr>\n",
       "      <th>203</th>\n",
       "      <td>3</td>\n",
       "      <td>11771</td>\n",
       "      <td>10</td>\n",
       "      <td>22222</td>\n",
       "      <td>784</td>\n",
       "      <td>Kuroko no Basket</td>\n",
       "    </tr>\n",
       "    <tr>\n",
       "      <th>216</th>\n",
       "      <td>3</td>\n",
       "      <td>18115</td>\n",
       "      <td>10</td>\n",
       "      <td>22222</td>\n",
       "      <td>2621</td>\n",
       "      <td>Magi: The Kingdom of Magic</td>\n",
       "    </tr>\n",
       "    <tr>\n",
       "      <th>240</th>\n",
       "      <td>3</td>\n",
       "      <td>28171</td>\n",
       "      <td>10</td>\n",
       "      <td>22222</td>\n",
       "      <td>5562</td>\n",
       "      <td>Shokugeki no Souma</td>\n",
       "    </tr>\n",
       "    <tr>\n",
       "      <th>165</th>\n",
       "      <td>3</td>\n",
       "      <td>813</td>\n",
       "      <td>10</td>\n",
       "      <td>22222</td>\n",
       "      <td>10229</td>\n",
       "      <td>Dragon Ball Z</td>\n",
       "    </tr>\n",
       "    <tr>\n",
       "      <th>209</th>\n",
       "      <td>3</td>\n",
       "      <td>16498</td>\n",
       "      <td>10</td>\n",
       "      <td>22222</td>\n",
       "      <td>2084</td>\n",
       "      <td>Shingeki no Kyojin</td>\n",
       "    </tr>\n",
       "    <tr>\n",
       "      <th>208</th>\n",
       "      <td>3</td>\n",
       "      <td>14513</td>\n",
       "      <td>10</td>\n",
       "      <td>22222</td>\n",
       "      <td>1574</td>\n",
       "      <td>Magi: The Labyrinth of Magic</td>\n",
       "    </tr>\n",
       "  </tbody>\n",
       "</table>\n",
       "</div>"
      ],
      "text/plain": [
       "    user_id anime_id  rating  csr_user_id  csr_anime_id  \\\n",
       "221       3    20159      10        22222          3247   \n",
       "173       3     1535      10        22222          1768   \n",
       "195       3     9989      10        22222         11192   \n",
       "212       3    16894      10        22222          2227   \n",
       "203       3    11771      10        22222           784   \n",
       "216       3    18115      10        22222          2621   \n",
       "240       3    28171      10        22222          5562   \n",
       "165       3      813      10        22222         10229   \n",
       "209       3    16498      10        22222          2084   \n",
       "208       3    14513      10        22222          1574   \n",
       "\n",
       "                                                  name  \n",
       "221                                Pokemon: The Origin  \n",
       "173                                         Death Note  \n",
       "195  Ano Hi Mita Hana no Namae wo Bokutachi wa Mada...  \n",
       "212                        Kuroko no Basket 2nd Season  \n",
       "203                                   Kuroko no Basket  \n",
       "216                         Magi: The Kingdom of Magic  \n",
       "240                                 Shokugeki no Souma  \n",
       "165                                      Dragon Ball Z  \n",
       "209                                 Shingeki no Kyojin  \n",
       "208                       Magi: The Labyrinth of Magic  "
      ]
     },
     "execution_count": 22,
     "metadata": {},
     "output_type": "execute_result"
    }
   ],
   "source": [
    "collab_rating[ (collab_rating['user_id'] == '3') & (collab_rating['rating'] > 0)].sort_values('rating',ascending=False).head(10)"
   ]
  },
  {
   "cell_type": "code",
   "execution_count": 23,
   "id": "2ab2addd",
   "metadata": {
    "execution": {
     "iopub.execute_input": "2021-08-22T09:25:13.096318Z",
     "iopub.status.busy": "2021-08-22T09:25:13.091058Z",
     "iopub.status.idle": "2021-08-22T09:25:18.552329Z",
     "shell.execute_reply": "2021-08-22T09:25:18.552803Z",
     "shell.execute_reply.started": "2021-08-22T09:09:20.400630Z"
    },
    "papermill": {
     "duration": 5.504771,
     "end_time": "2021-08-22T09:25:18.552968",
     "exception": false,
     "start_time": "2021-08-22T09:25:13.048197",
     "status": "completed"
    },
    "tags": []
   },
   "outputs": [
    {
     "data": {
      "application/vnd.jupyter.widget-view+json": {
       "model_id": "4a2fa6b454f645909a6bff47c88b1fb9",
       "version_major": 2,
       "version_minor": 0
      },
      "text/plain": [
       "  0%|          | 0/1562748 [00:00<?, ?it/s]"
      ]
     },
     "metadata": {},
     "output_type": "display_data"
    },
    {
     "data": {
      "text/plain": [
       "['Shingeki no Kyojin',\n",
       " 'Tokyo Ghoul',\n",
       " 'Fate/stay night: Unlimited Blade Works',\n",
       " 'Inazuma Eleven',\n",
       " 'Dungeon ni Deai wo Motomeru no wa Machigatteiru Darou ka',\n",
       " 'Haikyuu!! Second Season',\n",
       " 'Soul Eater',\n",
       " 'Ao no Exorcist Movie',\n",
       " 'DRAMAtical Murder',\n",
       " 'Akame ga Kill!']"
      ]
     },
     "execution_count": 23,
     "metadata": {},
     "output_type": "execute_result"
    }
   ],
   "source": [
    "animeid2name = {ind:name for ind,name in zip(collab_rating['anime_id'], collab_rating['name'])}\n",
    "\n",
    "rec_dict = pred2dict(pred)\n",
    "recs = get_top_k_recommendation(rec_dict, '3', 10, animeid2name)\n",
    "recs"
   ]
  },
  {
   "cell_type": "code",
   "execution_count": null,
   "id": "e75d9efe",
   "metadata": {
    "papermill": {
     "duration": 0.030488,
     "end_time": "2021-08-22T09:25:18.614010",
     "exception": false,
     "start_time": "2021-08-22T09:25:18.583522",
     "status": "completed"
    },
    "tags": []
   },
   "outputs": [],
   "source": []
  }
 ],
 "metadata": {
  "kernelspec": {
   "display_name": "Python 3",
   "language": "python",
   "name": "python3"
  },
  "language_info": {
   "codemirror_mode": {
    "name": "ipython",
    "version": 3
   },
   "file_extension": ".py",
   "mimetype": "text/x-python",
   "name": "python",
   "nbconvert_exporter": "python",
   "pygments_lexer": "ipython3",
   "version": "3.7.10"
  },
  "papermill": {
   "default_parameters": {},
   "duration": 503.620293,
   "end_time": "2021-08-22T09:25:21.354700",
   "environment_variables": {},
   "exception": null,
   "input_path": "__notebook__.ipynb",
   "output_path": "__notebook__.ipynb",
   "parameters": {},
   "start_time": "2021-08-22T09:16:57.734407",
   "version": "2.3.3"
  },
  "widgets": {
   "application/vnd.jupyter.widget-state+json": {
    "state": {
     "005abdbcce2e4a0cb0f842932da60b7c": {
      "model_module": "@jupyter-widgets/controls",
      "model_module_version": "1.5.0",
      "model_name": "FloatProgressModel",
      "state": {
       "_dom_classes": [],
       "_model_module": "@jupyter-widgets/controls",
       "_model_module_version": "1.5.0",
       "_model_name": "FloatProgressModel",
       "_view_count": null,
       "_view_module": "@jupyter-widgets/controls",
       "_view_module_version": "1.5.0",
       "_view_name": "ProgressView",
       "bar_style": "success",
       "description": "",
       "description_tooltip": null,
       "layout": "IPY_MODEL_cc26ad464df444ce9d633abd3a03bce9",
       "max": 73515.0,
       "min": 0.0,
       "orientation": "horizontal",
       "style": "IPY_MODEL_f7670c5e25bd4c77bfab286e7a1013b2",
       "value": 73515.0
      }
     },
     "04a3eea749c74d12a508553584880e47": {
      "model_module": "@jupyter-widgets/controls",
      "model_module_version": "1.5.0",
      "model_name": "DescriptionStyleModel",
      "state": {
       "_model_module": "@jupyter-widgets/controls",
       "_model_module_version": "1.5.0",
       "_model_name": "DescriptionStyleModel",
       "_view_count": null,
       "_view_module": "@jupyter-widgets/base",
       "_view_module_version": "1.2.0",
       "_view_name": "StyleView",
       "description_width": ""
      }
     },
     "3fceb5c00a49472187fd452188b8a8be": {
      "model_module": "@jupyter-widgets/controls",
      "model_module_version": "1.5.0",
      "model_name": "HTMLModel",
      "state": {
       "_dom_classes": [],
       "_model_module": "@jupyter-widgets/controls",
       "_model_module_version": "1.5.0",
       "_model_name": "HTMLModel",
       "_view_count": null,
       "_view_module": "@jupyter-widgets/controls",
       "_view_module_version": "1.5.0",
       "_view_name": "HTMLView",
       "description": "",
       "description_tooltip": null,
       "layout": "IPY_MODEL_cb3c722f5c744fe9a2ced9c1cbe1884a",
       "placeholder": "​",
       "style": "IPY_MODEL_5358d2f4f7af4571b728a747b6b1a853",
       "value": " 73515/73515 [00:41&lt;00:00, 1881.03it/s]"
      }
     },
     "4a2fa6b454f645909a6bff47c88b1fb9": {
      "model_module": "@jupyter-widgets/controls",
      "model_module_version": "1.5.0",
      "model_name": "HBoxModel",
      "state": {
       "_dom_classes": [],
       "_model_module": "@jupyter-widgets/controls",
       "_model_module_version": "1.5.0",
       "_model_name": "HBoxModel",
       "_view_count": null,
       "_view_module": "@jupyter-widgets/controls",
       "_view_module_version": "1.5.0",
       "_view_name": "HBoxView",
       "box_style": "",
       "children": [
        "IPY_MODEL_f1754bebc1914c2a8113c78332996b57",
        "IPY_MODEL_fffa4831cfbe444fb4ec91faf19aba0d",
        "IPY_MODEL_4c853c111e6b42229a0ec07ad78947bb"
       ],
       "layout": "IPY_MODEL_e82ca43c935443179852df2ae57705e8"
      }
     },
     "4c853c111e6b42229a0ec07ad78947bb": {
      "model_module": "@jupyter-widgets/controls",
      "model_module_version": "1.5.0",
      "model_name": "HTMLModel",
      "state": {
       "_dom_classes": [],
       "_model_module": "@jupyter-widgets/controls",
       "_model_module_version": "1.5.0",
       "_model_name": "HTMLModel",
       "_view_count": null,
       "_view_module": "@jupyter-widgets/controls",
       "_view_module_version": "1.5.0",
       "_view_name": "HTMLView",
       "description": "",
       "description_tooltip": null,
       "layout": "IPY_MODEL_e07ec37e38484d65af291c38b21afbb9",
       "placeholder": "​",
       "style": "IPY_MODEL_6b03353af46d40ecae6d070ee7975848",
       "value": " 1562748/1562748 [00:03&lt;00:00, 735333.59it/s]"
      }
     },
     "5358d2f4f7af4571b728a747b6b1a853": {
      "model_module": "@jupyter-widgets/controls",
      "model_module_version": "1.5.0",
      "model_name": "DescriptionStyleModel",
      "state": {
       "_model_module": "@jupyter-widgets/controls",
       "_model_module_version": "1.5.0",
       "_model_name": "DescriptionStyleModel",
       "_view_count": null,
       "_view_module": "@jupyter-widgets/base",
       "_view_module_version": "1.2.0",
       "_view_name": "StyleView",
       "description_width": ""
      }
     },
     "6b03353af46d40ecae6d070ee7975848": {
      "model_module": "@jupyter-widgets/controls",
      "model_module_version": "1.5.0",
      "model_name": "DescriptionStyleModel",
      "state": {
       "_model_module": "@jupyter-widgets/controls",
       "_model_module_version": "1.5.0",
       "_model_name": "DescriptionStyleModel",
       "_view_count": null,
       "_view_module": "@jupyter-widgets/base",
       "_view_module_version": "1.2.0",
       "_view_name": "StyleView",
       "description_width": ""
      }
     },
     "6fcb5114737546a6960ab0f251540733": {
      "model_module": "@jupyter-widgets/controls",
      "model_module_version": "1.5.0",
      "model_name": "HBoxModel",
      "state": {
       "_dom_classes": [],
       "_model_module": "@jupyter-widgets/controls",
       "_model_module_version": "1.5.0",
       "_model_name": "HBoxModel",
       "_view_count": null,
       "_view_module": "@jupyter-widgets/controls",
       "_view_module_version": "1.5.0",
       "_view_name": "HBoxView",
       "box_style": "",
       "children": [
        "IPY_MODEL_bd6d69e2f77d4ee086d22bb64bb53af9",
        "IPY_MODEL_005abdbcce2e4a0cb0f842932da60b7c",
        "IPY_MODEL_3fceb5c00a49472187fd452188b8a8be"
       ],
       "layout": "IPY_MODEL_b7099cde6d38467ebb81591f4ed995ba"
      }
     },
     "7ae72421791a4c979cf0998294890022": {
      "model_module": "@jupyter-widgets/controls",
      "model_module_version": "1.5.0",
      "model_name": "DescriptionStyleModel",
      "state": {
       "_model_module": "@jupyter-widgets/controls",
       "_model_module_version": "1.5.0",
       "_model_name": "DescriptionStyleModel",
       "_view_count": null,
       "_view_module": "@jupyter-widgets/base",
       "_view_module_version": "1.2.0",
       "_view_name": "StyleView",
       "description_width": ""
      }
     },
     "7d86f1c48a764548a78015d54abdc7ba": {
      "model_module": "@jupyter-widgets/controls",
      "model_module_version": "1.5.0",
      "model_name": "ProgressStyleModel",
      "state": {
       "_model_module": "@jupyter-widgets/controls",
       "_model_module_version": "1.5.0",
       "_model_name": "ProgressStyleModel",
       "_view_count": null,
       "_view_module": "@jupyter-widgets/base",
       "_view_module_version": "1.2.0",
       "_view_name": "StyleView",
       "bar_color": null,
       "description_width": ""
      }
     },
     "aae0a8bc4d4a4c45a98f344e9e3baa0a": {
      "model_module": "@jupyter-widgets/base",
      "model_module_version": "1.2.0",
      "model_name": "LayoutModel",
      "state": {
       "_model_module": "@jupyter-widgets/base",
       "_model_module_version": "1.2.0",
       "_model_name": "LayoutModel",
       "_view_count": null,
       "_view_module": "@jupyter-widgets/base",
       "_view_module_version": "1.2.0",
       "_view_name": "LayoutView",
       "align_content": null,
       "align_items": null,
       "align_self": null,
       "border": null,
       "bottom": null,
       "display": null,
       "flex": null,
       "flex_flow": null,
       "grid_area": null,
       "grid_auto_columns": null,
       "grid_auto_flow": null,
       "grid_auto_rows": null,
       "grid_column": null,
       "grid_gap": null,
       "grid_row": null,
       "grid_template_areas": null,
       "grid_template_columns": null,
       "grid_template_rows": null,
       "height": null,
       "justify_content": null,
       "justify_items": null,
       "left": null,
       "margin": null,
       "max_height": null,
       "max_width": null,
       "min_height": null,
       "min_width": null,
       "object_fit": null,
       "object_position": null,
       "order": null,
       "overflow": null,
       "overflow_x": null,
       "overflow_y": null,
       "padding": null,
       "right": null,
       "top": null,
       "visibility": null,
       "width": null
      }
     },
     "b7099cde6d38467ebb81591f4ed995ba": {
      "model_module": "@jupyter-widgets/base",
      "model_module_version": "1.2.0",
      "model_name": "LayoutModel",
      "state": {
       "_model_module": "@jupyter-widgets/base",
       "_model_module_version": "1.2.0",
       "_model_name": "LayoutModel",
       "_view_count": null,
       "_view_module": "@jupyter-widgets/base",
       "_view_module_version": "1.2.0",
       "_view_name": "LayoutView",
       "align_content": null,
       "align_items": null,
       "align_self": null,
       "border": null,
       "bottom": null,
       "display": null,
       "flex": null,
       "flex_flow": null,
       "grid_area": null,
       "grid_auto_columns": null,
       "grid_auto_flow": null,
       "grid_auto_rows": null,
       "grid_column": null,
       "grid_gap": null,
       "grid_row": null,
       "grid_template_areas": null,
       "grid_template_columns": null,
       "grid_template_rows": null,
       "height": null,
       "justify_content": null,
       "justify_items": null,
       "left": null,
       "margin": null,
       "max_height": null,
       "max_width": null,
       "min_height": null,
       "min_width": null,
       "object_fit": null,
       "object_position": null,
       "order": null,
       "overflow": null,
       "overflow_x": null,
       "overflow_y": null,
       "padding": null,
       "right": null,
       "top": null,
       "visibility": null,
       "width": null
      }
     },
     "bd6d69e2f77d4ee086d22bb64bb53af9": {
      "model_module": "@jupyter-widgets/controls",
      "model_module_version": "1.5.0",
      "model_name": "HTMLModel",
      "state": {
       "_dom_classes": [],
       "_model_module": "@jupyter-widgets/controls",
       "_model_module_version": "1.5.0",
       "_model_name": "HTMLModel",
       "_view_count": null,
       "_view_module": "@jupyter-widgets/controls",
       "_view_module_version": "1.5.0",
       "_view_name": "HTMLView",
       "description": "",
       "description_tooltip": null,
       "layout": "IPY_MODEL_daee1c306b8c41cab031aae0ca6d572f",
       "placeholder": "​",
       "style": "IPY_MODEL_7ae72421791a4c979cf0998294890022",
       "value": "100%"
      }
     },
     "cb3c722f5c744fe9a2ced9c1cbe1884a": {
      "model_module": "@jupyter-widgets/base",
      "model_module_version": "1.2.0",
      "model_name": "LayoutModel",
      "state": {
       "_model_module": "@jupyter-widgets/base",
       "_model_module_version": "1.2.0",
       "_model_name": "LayoutModel",
       "_view_count": null,
       "_view_module": "@jupyter-widgets/base",
       "_view_module_version": "1.2.0",
       "_view_name": "LayoutView",
       "align_content": null,
       "align_items": null,
       "align_self": null,
       "border": null,
       "bottom": null,
       "display": null,
       "flex": null,
       "flex_flow": null,
       "grid_area": null,
       "grid_auto_columns": null,
       "grid_auto_flow": null,
       "grid_auto_rows": null,
       "grid_column": null,
       "grid_gap": null,
       "grid_row": null,
       "grid_template_areas": null,
       "grid_template_columns": null,
       "grid_template_rows": null,
       "height": null,
       "justify_content": null,
       "justify_items": null,
       "left": null,
       "margin": null,
       "max_height": null,
       "max_width": null,
       "min_height": null,
       "min_width": null,
       "object_fit": null,
       "object_position": null,
       "order": null,
       "overflow": null,
       "overflow_x": null,
       "overflow_y": null,
       "padding": null,
       "right": null,
       "top": null,
       "visibility": null,
       "width": null
      }
     },
     "cc26ad464df444ce9d633abd3a03bce9": {
      "model_module": "@jupyter-widgets/base",
      "model_module_version": "1.2.0",
      "model_name": "LayoutModel",
      "state": {
       "_model_module": "@jupyter-widgets/base",
       "_model_module_version": "1.2.0",
       "_model_name": "LayoutModel",
       "_view_count": null,
       "_view_module": "@jupyter-widgets/base",
       "_view_module_version": "1.2.0",
       "_view_name": "LayoutView",
       "align_content": null,
       "align_items": null,
       "align_self": null,
       "border": null,
       "bottom": null,
       "display": null,
       "flex": null,
       "flex_flow": null,
       "grid_area": null,
       "grid_auto_columns": null,
       "grid_auto_flow": null,
       "grid_auto_rows": null,
       "grid_column": null,
       "grid_gap": null,
       "grid_row": null,
       "grid_template_areas": null,
       "grid_template_columns": null,
       "grid_template_rows": null,
       "height": null,
       "justify_content": null,
       "justify_items": null,
       "left": null,
       "margin": null,
       "max_height": null,
       "max_width": null,
       "min_height": null,
       "min_width": null,
       "object_fit": null,
       "object_position": null,
       "order": null,
       "overflow": null,
       "overflow_x": null,
       "overflow_y": null,
       "padding": null,
       "right": null,
       "top": null,
       "visibility": null,
       "width": null
      }
     },
     "daee1c306b8c41cab031aae0ca6d572f": {
      "model_module": "@jupyter-widgets/base",
      "model_module_version": "1.2.0",
      "model_name": "LayoutModel",
      "state": {
       "_model_module": "@jupyter-widgets/base",
       "_model_module_version": "1.2.0",
       "_model_name": "LayoutModel",
       "_view_count": null,
       "_view_module": "@jupyter-widgets/base",
       "_view_module_version": "1.2.0",
       "_view_name": "LayoutView",
       "align_content": null,
       "align_items": null,
       "align_self": null,
       "border": null,
       "bottom": null,
       "display": null,
       "flex": null,
       "flex_flow": null,
       "grid_area": null,
       "grid_auto_columns": null,
       "grid_auto_flow": null,
       "grid_auto_rows": null,
       "grid_column": null,
       "grid_gap": null,
       "grid_row": null,
       "grid_template_areas": null,
       "grid_template_columns": null,
       "grid_template_rows": null,
       "height": null,
       "justify_content": null,
       "justify_items": null,
       "left": null,
       "margin": null,
       "max_height": null,
       "max_width": null,
       "min_height": null,
       "min_width": null,
       "object_fit": null,
       "object_position": null,
       "order": null,
       "overflow": null,
       "overflow_x": null,
       "overflow_y": null,
       "padding": null,
       "right": null,
       "top": null,
       "visibility": null,
       "width": null
      }
     },
     "e07ec37e38484d65af291c38b21afbb9": {
      "model_module": "@jupyter-widgets/base",
      "model_module_version": "1.2.0",
      "model_name": "LayoutModel",
      "state": {
       "_model_module": "@jupyter-widgets/base",
       "_model_module_version": "1.2.0",
       "_model_name": "LayoutModel",
       "_view_count": null,
       "_view_module": "@jupyter-widgets/base",
       "_view_module_version": "1.2.0",
       "_view_name": "LayoutView",
       "align_content": null,
       "align_items": null,
       "align_self": null,
       "border": null,
       "bottom": null,
       "display": null,
       "flex": null,
       "flex_flow": null,
       "grid_area": null,
       "grid_auto_columns": null,
       "grid_auto_flow": null,
       "grid_auto_rows": null,
       "grid_column": null,
       "grid_gap": null,
       "grid_row": null,
       "grid_template_areas": null,
       "grid_template_columns": null,
       "grid_template_rows": null,
       "height": null,
       "justify_content": null,
       "justify_items": null,
       "left": null,
       "margin": null,
       "max_height": null,
       "max_width": null,
       "min_height": null,
       "min_width": null,
       "object_fit": null,
       "object_position": null,
       "order": null,
       "overflow": null,
       "overflow_x": null,
       "overflow_y": null,
       "padding": null,
       "right": null,
       "top": null,
       "visibility": null,
       "width": null
      }
     },
     "e82ca43c935443179852df2ae57705e8": {
      "model_module": "@jupyter-widgets/base",
      "model_module_version": "1.2.0",
      "model_name": "LayoutModel",
      "state": {
       "_model_module": "@jupyter-widgets/base",
       "_model_module_version": "1.2.0",
       "_model_name": "LayoutModel",
       "_view_count": null,
       "_view_module": "@jupyter-widgets/base",
       "_view_module_version": "1.2.0",
       "_view_name": "LayoutView",
       "align_content": null,
       "align_items": null,
       "align_self": null,
       "border": null,
       "bottom": null,
       "display": null,
       "flex": null,
       "flex_flow": null,
       "grid_area": null,
       "grid_auto_columns": null,
       "grid_auto_flow": null,
       "grid_auto_rows": null,
       "grid_column": null,
       "grid_gap": null,
       "grid_row": null,
       "grid_template_areas": null,
       "grid_template_columns": null,
       "grid_template_rows": null,
       "height": null,
       "justify_content": null,
       "justify_items": null,
       "left": null,
       "margin": null,
       "max_height": null,
       "max_width": null,
       "min_height": null,
       "min_width": null,
       "object_fit": null,
       "object_position": null,
       "order": null,
       "overflow": null,
       "overflow_x": null,
       "overflow_y": null,
       "padding": null,
       "right": null,
       "top": null,
       "visibility": null,
       "width": null
      }
     },
     "f1754bebc1914c2a8113c78332996b57": {
      "model_module": "@jupyter-widgets/controls",
      "model_module_version": "1.5.0",
      "model_name": "HTMLModel",
      "state": {
       "_dom_classes": [],
       "_model_module": "@jupyter-widgets/controls",
       "_model_module_version": "1.5.0",
       "_model_name": "HTMLModel",
       "_view_count": null,
       "_view_module": "@jupyter-widgets/controls",
       "_view_module_version": "1.5.0",
       "_view_name": "HTMLView",
       "description": "",
       "description_tooltip": null,
       "layout": "IPY_MODEL_ff6f450ee4154db19def6077a1c67704",
       "placeholder": "​",
       "style": "IPY_MODEL_04a3eea749c74d12a508553584880e47",
       "value": "100%"
      }
     },
     "f7670c5e25bd4c77bfab286e7a1013b2": {
      "model_module": "@jupyter-widgets/controls",
      "model_module_version": "1.5.0",
      "model_name": "ProgressStyleModel",
      "state": {
       "_model_module": "@jupyter-widgets/controls",
       "_model_module_version": "1.5.0",
       "_model_name": "ProgressStyleModel",
       "_view_count": null,
       "_view_module": "@jupyter-widgets/base",
       "_view_module_version": "1.2.0",
       "_view_name": "StyleView",
       "bar_color": null,
       "description_width": ""
      }
     },
     "ff6f450ee4154db19def6077a1c67704": {
      "model_module": "@jupyter-widgets/base",
      "model_module_version": "1.2.0",
      "model_name": "LayoutModel",
      "state": {
       "_model_module": "@jupyter-widgets/base",
       "_model_module_version": "1.2.0",
       "_model_name": "LayoutModel",
       "_view_count": null,
       "_view_module": "@jupyter-widgets/base",
       "_view_module_version": "1.2.0",
       "_view_name": "LayoutView",
       "align_content": null,
       "align_items": null,
       "align_self": null,
       "border": null,
       "bottom": null,
       "display": null,
       "flex": null,
       "flex_flow": null,
       "grid_area": null,
       "grid_auto_columns": null,
       "grid_auto_flow": null,
       "grid_auto_rows": null,
       "grid_column": null,
       "grid_gap": null,
       "grid_row": null,
       "grid_template_areas": null,
       "grid_template_columns": null,
       "grid_template_rows": null,
       "height": null,
       "justify_content": null,
       "justify_items": null,
       "left": null,
       "margin": null,
       "max_height": null,
       "max_width": null,
       "min_height": null,
       "min_width": null,
       "object_fit": null,
       "object_position": null,
       "order": null,
       "overflow": null,
       "overflow_x": null,
       "overflow_y": null,
       "padding": null,
       "right": null,
       "top": null,
       "visibility": null,
       "width": null
      }
     },
     "fffa4831cfbe444fb4ec91faf19aba0d": {
      "model_module": "@jupyter-widgets/controls",
      "model_module_version": "1.5.0",
      "model_name": "FloatProgressModel",
      "state": {
       "_dom_classes": [],
       "_model_module": "@jupyter-widgets/controls",
       "_model_module_version": "1.5.0",
       "_model_name": "FloatProgressModel",
       "_view_count": null,
       "_view_module": "@jupyter-widgets/controls",
       "_view_module_version": "1.5.0",
       "_view_name": "ProgressView",
       "bar_style": "success",
       "description": "",
       "description_tooltip": null,
       "layout": "IPY_MODEL_aae0a8bc4d4a4c45a98f344e9e3baa0a",
       "max": 1562748.0,
       "min": 0.0,
       "orientation": "horizontal",
       "style": "IPY_MODEL_7d86f1c48a764548a78015d54abdc7ba",
       "value": 1562748.0
      }
     }
    },
    "version_major": 2,
    "version_minor": 0
   }
  }
 },
 "nbformat": 4,
 "nbformat_minor": 5
}
